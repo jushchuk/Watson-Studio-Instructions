{
 "cells": [
  {
   "cell_type": "markdown",
   "metadata": {},
   "source": [
    "# Importing Data Examples"
   ]
  },
  {
   "cell_type": "markdown",
   "metadata": {},
   "source": [
    "### Project Configuration\n",
    "To import and save files in the project (which contains the data assets and Jupyter Notebooks) you need to have an access token and have a cell that loads the project interface. You can add this configuration clicking the More icon (three vertical like this: $ \\vdots$ near the right center of toolbar) then \"Insert project token\". Run the cell by clicking the play button to the left of it or click Shift+Enter when the cell is selected.\n",
    "\n",
    "If you do not do this, you will see `NameError: name 'project' is not defined` when running the below cells. **Make sure to run the cell once you add it!!** (click the play button to the left of it or click Shift+Enter when the cell is selected)\n",
    "\n",
    "\n",
    "\n",
    "If you encounter an error when trying to add the project access token, follow its directions and go to settings to add the token with Editor access."
   ]
  },
  {
   "cell_type": "markdown",
   "metadata": {},
   "source": [
    "## Understanding the Patterns in these Examples\n",
    "All these methods of reading in the data file use `project.get_file()` in the first line. This returns a `BytesIO` object that then needs to be parsed into the proper format. The second line in each example does this parsing. The variable on the left of the second line is what you would reference when using this data in this notebook. The third line prints the type of the parsed object (not required). Then some or all of the parsed file is displayed as output. See the comments (text after the #) for the functions used. \n",
    "\n",
    "Sometimes an `import` is required before the first line. This means the function to parse the file is not available by default and must be explicitally loaded into this notebook environment."
   ]
  },
  {
   "cell_type": "markdown",
   "metadata": {},
   "source": [
    "## Import text file"
   ]
  },
  {
   "cell_type": "code",
   "execution_count": null,
   "metadata": {},
   "outputs": [],
   "source": [
    "shakespeare_file = project.get_file(\"shakespeare.txt\") # returns BytesIO object from file name\n",
    "shakespeare = shakespeare_file.read().decode() # parse to string ( using read() and then decode() )\n",
    "print(type(shakespeare))\n",
    "shakespeare[:1000] # show the first 1000 characters"
   ]
  },
  {
   "cell_type": "markdown",
   "metadata": {},
   "source": [
    "## Import pickle file"
   ]
  },
  {
   "cell_type": "code",
   "execution_count": null,
   "metadata": {},
   "outputs": [],
   "source": [
    "import pickle\n",
    "\n",
    "cubes_file = project.get_file(\"cubes.pickle\") # returns BytesIO object from file name\n",
    "cubes = pickle.load(cubes_file) # parse to a Python dictionary using pickle.load()\n",
    "cubes"
   ]
  },
  {
   "cell_type": "markdown",
   "metadata": {},
   "source": [
    "## Import json"
   ]
  },
  {
   "cell_type": "code",
   "execution_count": null,
   "metadata": {},
   "outputs": [],
   "source": [
    "import json\n",
    "\n",
    "glossary_file = project.get_file(\"glossary.json\") # returns BytesIO object from file name\n",
    "glossary = json.load(glossary_file) # parse to Python dictionary using json.load()\n",
    "print(type(glossary))\n",
    "glossary"
   ]
  },
  {
   "cell_type": "markdown",
   "metadata": {
    "collapsed": true
   },
   "source": [
    "## Import csv"
   ]
  },
  {
   "cell_type": "code",
   "execution_count": null,
   "metadata": {},
   "outputs": [],
   "source": [
    "import pandas as pd\n",
    "precipitation_file = project.get_file(\"precipitation.csv\") # returns BytesIO object from file name\n",
    "precipitation_df = pd.read_csv(precipitation_file) # parse to a Pandas DataFrame using pd.read_csv()\n",
    "print(type(precipitation_df))\n",
    "precipitation_df.head()"
   ]
  },
  {
   "cell_type": "markdown",
   "metadata": {},
   "source": [
    "# Saving file objects as data assets"
   ]
  },
  {
   "cell_type": "markdown",
   "metadata": {},
   "source": [
    "## Save text file as a data asset"
   ]
  },
  {
   "cell_type": "code",
   "execution_count": null,
   "metadata": {},
   "outputs": [],
   "source": [
    "new_file = \"this can be anything\"\n",
    "project.save_data(\"anything.txt\", new_file, set_project_asset=True, overwrite=True)"
   ]
  },
  {
   "cell_type": "markdown",
   "metadata": {},
   "source": [
    "## Save Python dictionary in the form of a pickle file as a data asset"
   ]
  },
  {
   "cell_type": "code",
   "execution_count": null,
   "metadata": {},
   "outputs": [],
   "source": [
    "#import pickle # you don't need to import if you already have done so above this session\n",
    "new_dict = {\"first_name\": \"Alice\",\n",
    "            \"last_name\": \"Smith\",\n",
    "            \"favorite_color\": \"red\"}\n",
    "new_pickle_file = pickle.dumps(new_dict)\n",
    "project.save_data(\"alice.pickle\", new_pickle_file, set_project_asset=True, overwrite=True)"
   ]
  },
  {
   "cell_type": "markdown",
   "metadata": {},
   "source": [
    "## Save Python dictionary in the form of a JSON file as a data asset"
   ]
  },
  {
   "cell_type": "code",
   "execution_count": null,
   "metadata": {},
   "outputs": [],
   "source": [
    "#import json # you don't need to import if you already have done so above this session\n",
    "new_dict = {\"first_name\": \"Alice\",\n",
    "            \"last_name\": \"Smith\",\n",
    "            \"favorite_color\": \"red\"}\n",
    "new_json_file = json.dumps(new_dict)\n",
    "project.save_data(\"alice.json\", new_json_file, set_project_asset=True, overwrite=True)"
   ]
  },
  {
   "cell_type": "markdown",
   "metadata": {},
   "source": [
    "## Save Pandas DataFrame in the form of a csv file as a data asset"
   ]
  },
  {
   "cell_type": "code",
   "execution_count": null,
   "metadata": {},
   "outputs": [],
   "source": [
    "del precipitation_df[\"1990\"] #made change to dataframe\n",
    "new_csv_file = precipitation_df.to_csv(index=False)\n",
    "project.save_data(\"modeified-precipitation.csv\", new_csv_file, set_project_asset=True, overwrite=True)"
   ]
  },
  {
   "cell_type": "code",
   "execution_count": null,
   "metadata": {},
   "outputs": [],
   "source": []
  }
 ],
 "metadata": {
  "kernelspec": {
   "display_name": "Python 3.6",
   "language": "python",
   "name": "python3"
  },
  "language_info": {
   "codemirror_mode": {
    "name": "ipython",
    "version": 3
   },
   "file_extension": ".py",
   "mimetype": "text/x-python",
   "name": "python",
   "nbconvert_exporter": "python",
   "pygments_lexer": "ipython3",
   "version": "3.6.8"
  }
 },
 "nbformat": 4,
 "nbformat_minor": 1
}
